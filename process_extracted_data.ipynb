{
 "cells": [
  {
   "cell_type": "code",
   "execution_count": 1,
   "id": "aa97e294",
   "metadata": {},
   "outputs": [
    {
     "name": "stdout",
     "output_type": "stream",
     "text": [
      "/Users/raminanushiravani/Desktop/mouse_videos\r\n"
     ]
    }
   ],
   "source": [
    "import numpy as np\n",
    "import av\n",
    "import matplotlib.pyplot as plt\n",
    "from moviepy.editor import VideoFileClip\n",
    "import os\n",
    "import pickle\n",
    "from matplotlib import patches\n",
    "from functools import reduce\n",
    "\n",
    "from PIL import Image, ImageDraw, ImageFont\n",
    "from tensorflow.keras import backend as K\n",
    "!pwd\n",
    "\n",
    "f = open(\"train.txt\",'w')\n"
   ]
  },
  {
   "cell_type": "code",
   "execution_count": 2,
   "id": "37634156",
   "metadata": {},
   "outputs": [],
   "source": [
    " # 228x658x3\n",
    "# 192x512x3\n",
    "def get_input_target(input_file,target_file,count):\n",
    "    '''\n",
    "    input files must be sorted \n",
    "    outputs a feature/label \n",
    "    count is the frame number\n",
    "    '''\n",
    "    targets = pickle.load(open(target_file,'rb'))\n",
    "    path = target_file.split('image')[0]\n",
    "\n",
    "    img_path = path + 'frames/' + input_file\n",
    "    string_to_write = img_path \n",
    "    \n",
    "    target = targets[count]\n",
    "    labels = []\n",
    "    winy = 100\n",
    "    \n",
    "    for _,xy,winxy in target: \n",
    "        xmin = max(xy[0],5)\n",
    "        ymin = max(xy[1],5)\n",
    "        winx = winxy[0]\n",
    "        xmax = min(xmin + winx,658)\n",
    "        winy = winxy[1]\n",
    "        ymax = min(ymin + winy,228)\n",
    "        \n",
    "        print(\" winx  \" + str(winx) + \"   \" + str(round(winxy[1],3)) , end='\\r')\n",
    "        \n",
    "        if 'healthy' in target_file:\n",
    "            label = [xmin,ymin,xmax,ymax,0] \n",
    "            \n",
    "            string_to_write += \" \" + str(xmin) + \",\" + str(ymin) + \",\" + str(xmax) + \",\" + str(ymax) + \",\" + str(0)\n",
    "\n",
    "        else: \n",
    "            label = [xmin,ymin,xmax,ymax,1]\n",
    "            string_to_write += \" \" + str(xmin) + \",\" + str(ymin) + \",\" + str(xmax) + \",\" + str(ymax) + \",\" + str(1)\n",
    "\n",
    "        labels.append(label)\n",
    "        \n",
    "    if winy < 60 :\n",
    "        f.write(string_to_write + '\\n')\n",
    "        \n",
    "    return labels\n",
    "\n",
    "\n",
    "\n",
    "def plot_image_bounds(image_label):\n",
    "    '''\n",
    "    plot image boundaries\n",
    "    '''\n",
    "    image = image_label[0]\n",
    "    labels = image_label[1]\n",
    "    rects = []\n",
    "    for i in range(len(X[1])):\n",
    "        label = labels[i]\n",
    "        xx = label[0]\n",
    "        yy = label[1]\n",
    "        winX = label[2]\n",
    "        winY = label[3]\n",
    "        rect = patches.Rectangle((xx,yy),winX,winY, edgecolor='r', facecolor=\"none\")\n",
    "        rects.append(rect)\n",
    "    figure, ax = plt.subplots(1,figsize=(40,40))\n",
    "    ax.imshow(image)\n",
    "    for rect in rects:\n",
    "        ax.add_patch(rect)\n",
    "    plt.show()\n",
    "\n",
    "def create_training_dataset(input_files,target_file) : \n",
    "    '''\n",
    "    creates a taining dataset \n",
    "    '''\n",
    "    training_dataset = []\n",
    "    for frame_count in range(len(input_files)):\n",
    "        get_input_target(input_files[frame_count],target_file,frame_count )\n",
    "\n"
   ]
  },
  {
   "cell_type": "code",
   "execution_count": 5,
   "id": "20a71c3c",
   "metadata": {
    "scrolled": true
   },
   "outputs": [
    {
     "name": "stdout",
     "output_type": "stream",
     "text": [
      "/Users/raminanushiravani/Desktop/mouse_videos/injured/rightright_039348_2_20cms_0degUP/image.pickle\n",
      "/Users/raminanushiravani/Desktop/mouse_videos/injured/right_right_039348_20cms_0degUP/image.pickle\n",
      "/Users/raminanushiravani/Desktop/mouse_videos/injured/left039348_20cms_0degUP/image.pickle\n",
      "/Users/raminanushiravani/Desktop/mouse_videos/injured/036102_right_20cms_0degUP/image.pickle\n",
      "/Users/raminanushiravani/Desktop/mouse_videos/injured/039350_left_20cms_0degUP/image.pickle\n",
      "/Users/raminanushiravani/Desktop/mouse_videos/injured/039350_left_continue_20cms_0degUP/image.pickle\n",
      "/Users/raminanushiravani/Desktop/mouse_videos/injured/right_right_039348_3_20cms_0degUP/image.pickle\n",
      "/Users/raminanushiravani/Desktop/mouse_videos/injured/038024_left_continue_20cms_0degUP/image.pickle\n",
      "/Users/raminanushiravani/Desktop/mouse_videos/injured/039348_left_ninja_2_20cms_0degUP/image.pickle\n",
      "/Users/raminanushiravani/Desktop/mouse_videos/injured/039350_left_left_20cms_0degUP/image.pickle\n",
      "/Users/raminanushiravani/Desktop/mouse_videos/injured/leftleft039348_2_20cms_0degUP/image.pickle\n",
      "/Users/raminanushiravani/Desktop/mouse_videos/healthy/036102healthy_continue_20cms_0degUP/image.pickle\n",
      "/Users/raminanushiravani/Desktop/mouse_videos/healthy/healthy_NSG336_3_20cms_0degUP/image.pickle\n",
      "/Users/raminanushiravani/Desktop/mouse_videos/healthy/healthy_NSG336_1_20cms_0degUP/image.pickle\n",
      " winx  90   3555\r"
     ]
    }
   ],
   "source": [
    "# Create training dataset\n",
    "frames = pickle.load(open(path  + '/image_walking_frames_w_paw_location.pickle','rb')\n",
    "\n",
    "for frame in frames:\n",
    "    target_files = list(frame.keys())\n",
    "    count = 0\n",
    "    for i in range(len(target_files)):\n",
    "        target_file = target_files[i]\n",
    "        print(target_file)\n",
    "        input_files = frame[target_file]\n",
    "        create_training_dataset(input_files,target_file)\n",
    "        "
   ]
  }
 ],
 "metadata": {
  "kernelspec": {
   "display_name": "Python 3",
   "language": "python",
   "name": "python3"
  },
  "language_info": {
   "codemirror_mode": {
    "name": "ipython",
    "version": 3
   },
   "file_extension": ".py",
   "mimetype": "text/x-python",
   "name": "python",
   "nbconvert_exporter": "python",
   "pygments_lexer": "ipython3",
   "version": "3.8.8"
  }
 },
 "nbformat": 4,
 "nbformat_minor": 5
}

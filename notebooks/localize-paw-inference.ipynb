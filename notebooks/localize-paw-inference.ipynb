{
 "cells": [
  {
   "cell_type": "markdown",
   "metadata": {
    "execution": {
     "iopub.execute_input": "2022-01-29T20:54:59.4075Z",
     "iopub.status.busy": "2022-01-29T20:54:59.406685Z",
     "iopub.status.idle": "2022-01-29T20:55:06.143701Z",
     "shell.execute_reply": "2022-01-29T20:55:06.142799Z",
     "shell.execute_reply.started": "2022-01-29T20:54:59.407444Z"
    }
   },
   "source": [
    "# Localizing mouse paws from each frame with a fine-tunned Yolo Model \n",
    "Author : Ramin Anushiravani\n",
    "\n",
    "Date: January 29/22 "
   ]
  },
  {
   "cell_type": "code",
   "execution_count": 5,
   "metadata": {
    "execution": {
     "iopub.execute_input": "2022-02-01T01:53:23.361476Z",
     "iopub.status.busy": "2022-02-01T01:53:23.361161Z",
     "iopub.status.idle": "2022-02-01T01:53:23.367461Z",
     "shell.execute_reply": "2022-02-01T01:53:23.366428Z",
     "shell.execute_reply.started": "2022-02-01T01:53:23.361442Z"
    }
   },
   "outputs": [],
   "source": [
    "import numpy as np\n",
    "import matplotlib.pylab as plt\n",
    "import os\n",
    "from PIL import Image\n",
    "import time\n",
    "from IPython.display import clear_output\n",
    "import pickle\n",
    "from scipy.signal import argrelextrema\n",
    "from scipy import signal\n",
    "import pandas as pd\n",
    "from scipy.fft import fft, ifft\n",
    "import sys\n",
    "sys.path.append('../scripts/')\n",
    "import inference_utils\n",
    "from yolo import *\n"
   ]
  },
  {
   "cell_type": "code",
   "execution_count": 3,
   "metadata": {
    "execution": {
     "iopub.execute_input": "2022-02-01T01:53:24.038458Z",
     "iopub.status.busy": "2022-02-01T01:53:24.038149Z",
     "iopub.status.idle": "2022-02-01T01:53:38.928500Z",
     "shell.execute_reply": "2022-02-01T01:53:38.927632Z",
     "shell.execute_reply.started": "2022-02-01T01:53:24.038425Z"
    }
   },
   "outputs": [],
   "source": [
    "# Instantiating a Yolo object for inference \n",
    "yoloObj = YOLO(model_path = \"../input/trained-weights/trained_weights_final_mouse.h5\",\n",
    "     classes_path = '../input/model-data/model_data/mouse_classes.txt' ,\n",
    "     anchors_path = '../input/model-data/model_data/yolo_anchors_mouse.txt',\n",
    "     model_image_size = (64,256), gpu_num = 0, score = 0.3, iou = 0.4)"
   ]
  },
  {
   "cell_type": "code",
   "execution_count": 4,
   "metadata": {
    "execution": {
     "iopub.execute_input": "2022-02-01T01:53:38.931020Z",
     "iopub.status.busy": "2022-02-01T01:53:38.930505Z",
     "iopub.status.idle": "2022-02-01T01:53:40.103540Z",
     "shell.execute_reply": "2022-02-01T01:53:40.102615Z",
     "shell.execute_reply.started": "2022-02-01T01:53:38.930976Z"
    }
   },
   "outputs": [],
   "source": [
    "# Collecting all frame filenames from a video \n",
    "video_name = \"039350_left_left_20cms_0degUP\"\n",
    "image_path = \"../input/mouse-on-treadmill-frames/frames/\" + video_name + \"/frames/\"\n",
    "files = sorted(os.listdir(image_path), key = lambda x : int(x.split('.')[0]))\n",
    "files_abs_path = [image_path+f for f in files ]"
   ]
  },
  {
   "cell_type": "code",
   "execution_count": 10,
   "metadata": {
    "execution": {
     "iopub.execute_input": "2022-02-01T02:13:08.298058Z",
     "iopub.status.busy": "2022-02-01T02:13:08.297630Z",
     "iopub.status.idle": "2022-02-01T02:16:00.359436Z",
     "shell.execute_reply": "2022-02-01T02:16:00.358310Z",
     "shell.execute_reply.started": "2022-02-01T02:13:08.298028Z"
    }
   },
   "outputs": [],
   "source": [
    "final_walking_frames = split_video_to_walking_only(files_abs_path)"
   ]
  },
  {
   "cell_type": "markdown",
   "metadata": {},
   "source": [
    "### Performing Paw Detection Inference"
   ]
  },
  {
   "cell_type": "code",
   "execution_count": 14,
   "metadata": {
    "execution": {
     "iopub.execute_input": "2022-02-01T03:15:04.215269Z",
     "iopub.status.busy": "2022-02-01T03:15:04.214961Z",
     "iopub.status.idle": "2022-02-01T03:36:49.675944Z",
     "shell.execute_reply": "2022-02-01T03:36:49.674990Z",
     "shell.execute_reply.started": "2022-02-01T03:15:04.215212Z"
    }
   },
   "outputs": [],
   "source": [
    "dict_paws = paw_detection_video(files_abs_path)"
   ]
  },
  {
   "cell_type": "markdown",
   "metadata": {},
   "source": [
    "### Finding the average number of steps per paw "
   ]
  },
  {
   "cell_type": "code",
   "execution_count": 16,
   "metadata": {
    "execution": {
     "iopub.execute_input": "2022-02-01T03:36:49.710197Z",
     "iopub.status.busy": "2022-02-01T03:36:49.709726Z",
     "iopub.status.idle": "2022-02-01T03:36:51.131040Z",
     "shell.execute_reply": "2022-02-01T03:36:51.130423Z",
     "shell.execute_reply.started": "2022-02-01T03:36:49.710143Z"
    }
   },
   "outputs": [],
   "source": [
    "dict_paws = pickle.load(open(video_name + \"dict_paws.pickle\",'rb'))\n",
    "step_analytics_video(dict_paws, wn = 400)"
   ]
  },
  {
   "cell_type": "code",
   "execution_count": null,
   "metadata": {},
   "outputs": [],
   "source": []
  }
 ],
 "metadata": {
  "kernelspec": {
   "display_name": "Python 3",
   "language": "python",
   "name": "python3"
  },
  "language_info": {
   "codemirror_mode": {
    "name": "ipython",
    "version": 3
   },
   "file_extension": ".py",
   "mimetype": "text/x-python",
   "name": "python",
   "nbconvert_exporter": "python",
   "pygments_lexer": "ipython3",
   "version": "3.8.8"
  }
 },
 "nbformat": 4,
 "nbformat_minor": 4
}

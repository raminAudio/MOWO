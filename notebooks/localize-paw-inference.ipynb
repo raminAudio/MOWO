{
 "cells": [
  {
   "cell_type": "markdown",
   "metadata": {
    "execution": {
     "iopub.execute_input": "2022-01-29T20:54:59.4075Z",
     "iopub.status.busy": "2022-01-29T20:54:59.406685Z",
     "iopub.status.idle": "2022-01-29T20:55:06.143701Z",
     "shell.execute_reply": "2022-01-29T20:55:06.142799Z",
     "shell.execute_reply.started": "2022-01-29T20:54:59.407444Z"
    }
   },
   "source": [
    "# Localizing mouse paws from each frame with a fine-tunned Yolo Model \n",
    "Author : Ramin Anushiravani\n",
    "\n",
    "Date: January 29th,2022 "
   ]
  },
  {
   "cell_type": "code",
   "execution_count": 2,
   "metadata": {
    "execution": {
     "iopub.execute_input": "2022-02-01T01:53:23.361476Z",
     "iopub.status.busy": "2022-02-01T01:53:23.361161Z",
     "iopub.status.idle": "2022-02-01T01:53:23.367461Z",
     "shell.execute_reply": "2022-02-01T01:53:23.366428Z",
     "shell.execute_reply.started": "2022-02-01T01:53:23.361442Z"
    }
   },
   "outputs": [],
   "source": [
    "import numpy as np\n",
    "import matplotlib.pylab as plt\n",
    "import os\n",
    "from yolo_py import *\n",
    "from PIL import Image\n",
    "import time\n",
    "from IPython.display import clear_output\n",
    "import pickle\n",
    "from scipy.signal import argrelextrema\n",
    "from scipy import signal\n",
    "import pandas as pd\n",
    "from scipy.fft import fft, ifft"
   ]
  },
  {
   "cell_type": "code",
   "execution_count": 3,
   "metadata": {
    "execution": {
     "iopub.execute_input": "2022-02-01T01:53:24.038458Z",
     "iopub.status.busy": "2022-02-01T01:53:24.038149Z",
     "iopub.status.idle": "2022-02-01T01:53:38.928500Z",
     "shell.execute_reply": "2022-02-01T01:53:38.927632Z",
     "shell.execute_reply.started": "2022-02-01T01:53:24.038425Z"
    }
   },
   "outputs": [],
   "source": [
    "# Instantiating a Yolo object for inference \n",
    "yoloObj = YOLO(model_path = \"../input/trained-weights/trained_weights_final_mouse.h5\",\n",
    "     classes_path = '../input/model-data/model_data/mouse_classes.txt' ,\n",
    "     anchors_path = '../input/model-data/model_data/yolo_anchors_mouse.txt',\n",
    "     model_image_size = (64,256), gpu_num = 0, score = 0.3, iou = 0.4)"
   ]
  },
  {
   "cell_type": "code",
   "execution_count": 4,
   "metadata": {
    "execution": {
     "iopub.execute_input": "2022-02-01T01:53:38.931020Z",
     "iopub.status.busy": "2022-02-01T01:53:38.930505Z",
     "iopub.status.idle": "2022-02-01T01:53:40.103540Z",
     "shell.execute_reply": "2022-02-01T01:53:40.102615Z",
     "shell.execute_reply.started": "2022-02-01T01:53:38.930976Z"
    }
   },
   "outputs": [],
   "source": [
    "# Collecting all frame filenames from a video \n",
    "video_name = \"039350_left_left_20cms_0degUP\"\n",
    "image_path = \"../input/mouse-on-treadmill-frames/frames/\" + video_name + \"/frames/\"\n",
    "files = sorted(os.listdir(image_path), key = lambda x : int(x.split('.')[0]))\n",
    "files_abs_path = [image_path+f for f in files ]"
   ]
  },
  {
   "cell_type": "code",
   "execution_count": 9,
   "metadata": {
    "execution": {
     "iopub.execute_input": "2022-02-01T02:13:07.806294Z",
     "iopub.status.busy": "2022-02-01T02:13:07.805386Z",
     "iopub.status.idle": "2022-02-01T02:13:07.832561Z",
     "shell.execute_reply": "2022-02-01T02:13:07.831625Z",
     "shell.execute_reply.started": "2022-02-01T02:13:07.806201Z"
    }
   },
   "outputs": [],
   "source": [
    "def extract_walking_frames(meanxs, offset):\n",
    "    '''\n",
    "    meanxs : the maximum index from the filtered means of subtracted frames \n",
    "    offset : number of frames between each step \n",
    "    local min and local max of meanxs are used to detect if a mouse is walking. \n",
    "    Outputs : indexes where the mouse is walking \n",
    "    '''\n",
    "    \n",
    "    b, a = signal.butter(5, 0.3)\n",
    "    y = signal.filtfilt(b, a, np.array(meanxs), padlen=10) # more filtering \n",
    "\n",
    "    local_max_idx = argrelextrema(y, np.greater) \n",
    "    local_min_idx = argrelextrema(y, np.less)\n",
    "\n",
    "    walking_frames = []\n",
    "    for imin,imax in zip(local_min_idx[0],local_max_idx[0]):\n",
    "        if abs(imax-imin)<10:\n",
    "            walking_frames.append((min(imax+offset,imin+offset),max(imax+offset,imin+offset)))\n",
    "    return walking_frames\n",
    "\n",
    "def merge_frame_indicies(walking_frames,thr_merging,thr_save):\n",
    "    '''\n",
    "    walking_frames : output from extract_walking_frames contains walking frame indicies \n",
    "    thr_merging  : Merges groups of walking frames together to compensate for mistakes from the heuristics\n",
    "    thr_save : Threshol for saving group of frames \n",
    "    '''\n",
    "    results = []\n",
    "    count = 0 \n",
    "    tuples = np.concatenate((walking_frames))\n",
    "\n",
    "    for tuple_min_max in tuples:\n",
    "        x = tuple_min_max[0]\n",
    "        y = tuple_min_max[1]\n",
    "        if count == 0:\n",
    "            so_far = [x,y]\n",
    "            count += 1\n",
    "        else:\n",
    "            if x - so_far[1] < thr_merging: \n",
    "                so_far[1] = y\n",
    "            else:\n",
    "                if so_far[1] - so_far[0] > thr_save:\n",
    "                    results.append(so_far)\n",
    "                count = 0\n",
    "    return results\n",
    "\n",
    "def split_video_to_walking_only(files_abs_path):\n",
    "    \n",
    "    # Figuring out the frames where the mouse is walking \n",
    "    offset = 400\n",
    "    disp = 0\n",
    "\n",
    "    batch = []\n",
    "    images = []\n",
    "    dict_video = {}\n",
    "\n",
    "    # Looping over frames for each video to extract walking frames \n",
    "\n",
    "    walking_frames = []\n",
    "\n",
    "    count = 0\n",
    "\n",
    "    for frame_path in files_abs_path:\n",
    "\n",
    "        if 1:\n",
    "            # Read each image and averaging over all channels \n",
    "            image_data = plt.imread(frame_path)\n",
    "            image_data = np.int32(np.mean(image_data,axis = -1 ))\n",
    "            batch.append(image_data)\n",
    "        else:\n",
    "            x = 1 \n",
    "\n",
    "        print(len(batch),end='\\r')\n",
    "\n",
    "        if len(batch) >= offset:  \n",
    "\n",
    "            o1 = offset * count # keeping track of where we are in the frames \n",
    "            count += 1 \n",
    "            meanxs = [] \n",
    "            kk = 1\n",
    "            count_index = 0\n",
    "            batch_arr = np.array(batch).squeeze() # batch of frames \n",
    "            diff_batch = batch_arr[0:-1,:,:] - batch_arr[1:,:,:] # subtracting the frames \n",
    "\n",
    "            for xx in diff_batch:\n",
    "                count_index += 1 \n",
    "                mean_x = np.mean(xx[:,0:600]>0,axis=0) # avergaing over pixels (removing the treadmill)\n",
    "                b, a = signal.butter(8, 0.025) # filter for smoothing mean\n",
    "                y = signal.filtfilt(b, a, np.array(mean_x), padlen=150)\n",
    "                meanxs.append(np.argmax(y)) # finding the max index of filtered version of mean signals \n",
    "                if disp:\n",
    "                    # Display \n",
    "                    figure, ax = plt.subplots(2,2,figsize=(20,10))\n",
    "                    \n",
    "                    ax[0][0].imshow(xx>0)\n",
    "                    ax[0][0].set_title(\" mouse activity \")\n",
    "                    ax[0][1].imshow(batch_arr[count_index])\n",
    "                    ax[0][1].set_title(\" frame \")\n",
    "\n",
    "                    ax[1][0].plot(np.arange(kk),np.array(meanxs))\n",
    "                    ax[1][0].set_title(\" walking signal over time \")\n",
    "                    ax[1][1].plot(y)\n",
    "                    ax[1][1].set_title(\" frame walking signal smoothed \")\n",
    "\n",
    "                    kk += 1 \n",
    "                    plt.show()\n",
    "                    time.sleep(0.001) \n",
    "                    clear_output(wait=True)\n",
    "\n",
    "            # extracting Walking frames \n",
    "            walking_frames.append(extract_walking_frames(meanxs,o1))\n",
    "            batch = []\n",
    "\n",
    "    # collect all frames, concatenate, merge...\n",
    "    thr_merging = 30\n",
    "    thr_save = 50\n",
    "    final_walking_frames = []\n",
    "    walking_frame_intervals = merge_frame_indicies(walking_frames,thr_merging,thr_save)\n",
    "    for frame in walking_frame_intervals:\n",
    "        for i in range(frame[0],frame[1]):\n",
    "            final_walking_frames.append(str(i) + '.jpg')\n",
    "\n",
    "    pickle.dump(final_walking_frames , open('walking_frames_all_videos' +video_name + '.pickle','wb'))        \n",
    "\n",
    "    print(\"Ratio of walking frames over not walking \" + str(len(final_walking_frames)/len(files_abs_path)))\n",
    "    return final_walking_frames"
   ]
  },
  {
   "cell_type": "code",
   "execution_count": 10,
   "metadata": {
    "execution": {
     "iopub.execute_input": "2022-02-01T02:13:08.298058Z",
     "iopub.status.busy": "2022-02-01T02:13:08.297630Z",
     "iopub.status.idle": "2022-02-01T02:16:00.359436Z",
     "shell.execute_reply": "2022-02-01T02:16:00.358310Z",
     "shell.execute_reply.started": "2022-02-01T02:13:08.298028Z"
    }
   },
   "outputs": [],
   "source": [
    "final_walking_frames = split_video_to_walking_only(files_abs_path)"
   ]
  },
  {
   "cell_type": "markdown",
   "metadata": {},
   "source": [
    "# Performing Paw Detection Inference"
   ]
  },
  {
   "cell_type": "code",
   "execution_count": 13,
   "metadata": {
    "execution": {
     "iopub.execute_input": "2022-02-01T03:15:03.589094Z",
     "iopub.status.busy": "2022-02-01T03:15:03.588288Z",
     "iopub.status.idle": "2022-02-01T03:15:03.601852Z",
     "shell.execute_reply": "2022-02-01T03:15:03.601285Z",
     "shell.execute_reply.started": "2022-02-01T03:15:03.589051Z"
    }
   },
   "outputs": [],
   "source": [
    "def paw_detection_video(files_abs_path):\n",
    "    # Performing inference and plotting it on top each frame \n",
    "    count = 0 \n",
    "    dict_paws = {}\n",
    "    disp = 0\n",
    "\n",
    "    for f in files_abs_path:\n",
    "        image_name = f.split('/')[-1]\n",
    "        if image_name in final_walking_frames: # performing inference only when the mice is walking\n",
    "            image = Image.open(f)\n",
    "            image_data = np.array(image)\n",
    "            image_ = Image.fromarray(image_data.astype('uint8'), 'RGB')\n",
    "            image,locations, labels = yoloObj.detect_image(image_)\n",
    "            if disp:\n",
    "                figure, ax = plt.subplots(1,1,figsize=(40,20))\n",
    "                ax.imshow(image)\n",
    "                plt.show()\n",
    "                time.sleep(0.1)\n",
    "                clear_output(wait=True)\n",
    "            count += 1\n",
    "            if not disp:\n",
    "                print(round(count/len(final_walking_frames),3), end='\\r')\n",
    "            for location,label_ in zip(locations,labels):\n",
    "                ymin = location[0]\n",
    "                xmin = location[1]\n",
    "                ymax = location[2]\n",
    "                xmax = location[3]\n",
    "                centery = (ymin+ymax)/2\n",
    "                centerx = (xmin+xmax)/2\n",
    "                label = ' '.join(label_.split()[0:2])\n",
    "                array_ = np.zeros((2,count+1))\n",
    "                array_[0][count] =  centerx \n",
    "                array_[1][count] =  centery\n",
    "                if label not in dict_paws.keys():\n",
    "                    dict_paws[label] = array_\n",
    "                else:\n",
    "                    existing_array = dict_paws[label]\n",
    "                    array_[0][:len(existing_array.T)] +=  existing_array[0]\n",
    "                    array_[1][:len(existing_array.T)] +=  existing_array[1]\n",
    "                    dict_paws[label] = array_\n",
    "\n",
    "    pickle.dump(dict_paws,open(video_name + 'dict_paws.pickle','wb'))\n",
    "    return dict_paws"
   ]
  },
  {
   "cell_type": "code",
   "execution_count": 14,
   "metadata": {
    "execution": {
     "iopub.execute_input": "2022-02-01T03:15:04.215269Z",
     "iopub.status.busy": "2022-02-01T03:15:04.214961Z",
     "iopub.status.idle": "2022-02-01T03:36:49.675944Z",
     "shell.execute_reply": "2022-02-01T03:36:49.674990Z",
     "shell.execute_reply.started": "2022-02-01T03:15:04.215212Z"
    }
   },
   "outputs": [],
   "source": [
    "dict_paws = paw_detection_video(files_abs_path)"
   ]
  },
  {
   "cell_type": "markdown",
   "metadata": {},
   "source": [
    "# Finding the average number of steps per paw "
   ]
  },
  {
   "cell_type": "code",
   "execution_count": 15,
   "metadata": {
    "execution": {
     "iopub.execute_input": "2022-02-01T03:36:49.678557Z",
     "iopub.status.busy": "2022-02-01T03:36:49.678223Z",
     "iopub.status.idle": "2022-02-01T03:36:49.708210Z",
     "shell.execute_reply": "2022-02-01T03:36:49.707319Z",
     "shell.execute_reply.started": "2022-02-01T03:36:49.678513Z"
    },
    "jupyter": {
     "source_hidden": true
    }
   },
   "outputs": [],
   "source": [
    "def cal_num_steps(X,Y, window = 100):\n",
    "    '''\n",
    "    finding the number of steps\n",
    "    '''\n",
    "    w = [0,window]\n",
    "    b, a = signal.butter(5, 0.1)\n",
    "    while w[1] < len(X):\n",
    "        XY   = (X+Y)[w[0]:w[1]]\n",
    "        XY = signal.filtfilt(b, a, np.array(XY), padlen=10) \n",
    "        fft_br = np.abs(fft(XY))\n",
    "        num_steps = np.argmax(fft_br[1:int(len(fft_br)/2)])\n",
    "        w[0] += int(window/2)\n",
    "        w[1] += int(window/2)\n",
    "        yield num_steps\n",
    "        \n",
    "def step_analytics_video(dict_paws, wn = 200):\n",
    "    x   = dict_paws['back right']\n",
    "    Xbr = x[0]\n",
    "    Ybr = x[1]\n",
    "    x   = dict_paws['back left']\n",
    "    Xbl = x[0]\n",
    "    Ybl = x[1]\n",
    "    x   = dict_paws['front right']\n",
    "    Xfr = x[0]\n",
    "    Yfr = x[1]\n",
    "    x   = dict_paws['front left']\n",
    "    Xfl = x[0]\n",
    "    Yfl = x[1]\n",
    "\n",
    "    genfr = cal_num_steps(Xfr,Yfr, window = wn)\n",
    "    genbr = cal_num_steps(Xbr,Ybr, window = wn)\n",
    "    genfl = cal_num_steps(Xfl,Yfl, window = wn)\n",
    "    genbl = cal_num_steps(Xbl,Ybl, window = wn)\n",
    "\n",
    "    num_steps_fr = []\n",
    "    num_steps_br = []\n",
    "    num_steps_bl = []\n",
    "    num_steps_fl = []\n",
    "    # Front Right\n",
    "    while True: \n",
    "        try:\n",
    "            num_steps_fr.append(next(genfr))\n",
    "        except StopIteration:\n",
    "            break\n",
    "    # Back Right\n",
    "    while True:\n",
    "        try:\n",
    "            num_steps_br.append(next(genbr))\n",
    "        except StopIteration:\n",
    "            break\n",
    "    # Back Left\n",
    "    while True:\n",
    "        try:\n",
    "            num_steps_bl.append(next(genbl))\n",
    "        except StopIteration:\n",
    "            break\n",
    "    # Front Left\n",
    "    while True:\n",
    "        try:\n",
    "            num_steps_fl.append(next(genfl))\n",
    "        except StopIteration:\n",
    "            break\n",
    "\n",
    "\n",
    "    figure, ax = plt.subplots(2,2,figsize=(20,10))\n",
    "\n",
    "    thr = 2 # minimum number of steps to accept (ideally this is 1, but the model makes mistakes)\n",
    "    nfr = np.array(num_steps_fr) >= thr \n",
    "    scoreFR = np.sum(nfr)/len(nfr)\n",
    "    print(\"Avg Number of steps over \" + str(wn) + \" with 50% overlap\")\n",
    "    ax[0][0].plot(num_steps_fr)\n",
    "    ax[0][0].set_title('FR score ' + str(scoreFR))\n",
    "\n",
    "    nbr = np.array(num_steps_br) >= thr \n",
    "    scoreBR = np.sum(nbr)/len(nfr)\n",
    "    ax[0][1].plot(num_steps_br)\n",
    "    ax[0][1].set_title(\"BR score \" + str(scoreBR))\n",
    "\n",
    "    nbl = np.array(num_steps_bl) >= thr \n",
    "    scoreBL = np.sum(nbl)/len(nbl)\n",
    "    ax[1][0].plot(num_steps_bl)\n",
    "    ax[1][0].set_title(\"BL score \" +  str(scoreBL))\n",
    "\n",
    "    nfl = np.array(num_steps_fl) >= thr \n",
    "    scoreFL = np.sum(nfl)/len(nfl)\n",
    "    ax[1][1].plot(num_steps_fl)\n",
    "    ax[1][1].set_title(\"FL score \" +  str(scoreFL))\n",
    "    \n",
    "    print(\"Total Average Score : \" + str(np.sum(scoreFL+scoreFR+scoreBL+scoreBR)/4))\n",
    "    plt.show()\n",
    "\n",
    "    figure, ax = plt.subplots(2,2,figsize=(20,10))\n",
    "    paw_names = ['front right', 'front left', 'back left','back right']\n",
    "    indexes = [(0,0),(0,1),(1,0),(1,1)]\n",
    "    print(' Average change in axis over a ' + str(wn) + ' frame window with 50% overlap')\n",
    "    for paw_name,index in zip(paw_names,indexes):\n",
    "        x = dict_paws[paw_name][0]\n",
    "        x = x[x != 0]\n",
    "        y = dict_paws[paw_name][1]\n",
    "        y = y[y != 0]\n",
    "        b = [0, wn]\n",
    "        xmu_list = []\n",
    "        ymu_list = []\n",
    "\n",
    "        while b[1] < len(x):\n",
    "            x_mean = np.mean(x[b[0]:b[1]])\n",
    "            y_mean = np.mean(y[b[0]:b[1]])\n",
    "            xmu_list.append(x_mean)\n",
    "            ymu_list.append(y_mean)\n",
    "            b[0] += int(wn/2)\n",
    "            b[1] += int(wn/2)\n",
    "        ax[index[0]][index[1]].plot(xmu_list)\n",
    "        ax[index[0]][index[1]].plot(ymu_list)\n",
    "        ax[index[0]][index[1]].legend(['x','y'])\n",
    "        ax[index[0]][index[1]].set_title(paw_name + \" std x \" +  str(round(np.std(xmu_list),2)) + \" std y \" + str(round(np.std(ymu_list),2)))\n"
   ]
  },
  {
   "cell_type": "code",
   "execution_count": 16,
   "metadata": {
    "execution": {
     "iopub.execute_input": "2022-02-01T03:36:49.710197Z",
     "iopub.status.busy": "2022-02-01T03:36:49.709726Z",
     "iopub.status.idle": "2022-02-01T03:36:51.131040Z",
     "shell.execute_reply": "2022-02-01T03:36:51.130423Z",
     "shell.execute_reply.started": "2022-02-01T03:36:49.710143Z"
    }
   },
   "outputs": [],
   "source": [
    "dict_paws = pickle.load(open(video_name + \"dict_paws.pickle\",'rb'))\n",
    "step_analytics_video(dict_paws, wn = 400)"
   ]
  },
  {
   "cell_type": "code",
   "execution_count": null,
   "metadata": {},
   "outputs": [],
   "source": []
  }
 ],
 "metadata": {
  "kernelspec": {
   "display_name": "Python 3",
   "language": "python",
   "name": "python3"
  },
  "language_info": {
   "codemirror_mode": {
    "name": "ipython",
    "version": 3
   },
   "file_extension": ".py",
   "mimetype": "text/x-python",
   "name": "python",
   "nbconvert_exporter": "python",
   "pygments_lexer": "ipython3",
   "version": "3.8.8"
  }
 },
 "nbformat": 4,
 "nbformat_minor": 4
}
